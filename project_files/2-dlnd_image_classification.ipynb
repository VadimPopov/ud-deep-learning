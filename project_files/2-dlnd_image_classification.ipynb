{
 "cells": [
  {
   "cell_type": "markdown",
   "metadata": {
    "collapsed": true,
    "deletable": true,
    "editable": true
   },
   "source": [
    "# Image Classification\n",
    "In this project, you'll classify images from the [CIFAR-10 dataset](https://www.cs.toronto.edu/~kriz/cifar.html).  The dataset consists of airplanes, dogs, cats, and other objects. You'll preprocess the images, then train a convolutional neural network on all the samples. The images need to be normalized and the labels need to be one-hot encoded.  You'll get to apply what you learned and build a convolutional, max pooling, dropout, and fully connected layers.  At the end, you'll get to see your neural network's predictions on the sample images.\n",
    "## Get the Data\n",
    "Run the following cell to download the [CIFAR-10 dataset for python](https://www.cs.toronto.edu/~kriz/cifar-10-python.tar.gz)."
   ]
  },
  {
   "cell_type": "code",
   "execution_count": 1,
   "metadata": {
    "collapsed": false,
    "deletable": true,
    "editable": true
   },
   "outputs": [
    {
     "name": "stdout",
     "output_type": "stream",
     "text": [
      "All files found!\n"
     ]
    }
   ],
   "source": [
    "import sys\n",
    "sys.path.append('../auxiliary')\n",
    "from urllib.request import urlretrieve\n",
    "from os.path import isfile, isdir\n",
    "from tqdm import tqdm\n",
    "import problem_unittests_img_clf as tests\n",
    "import tarfile\n",
    "\n",
    "cifar10_dataset_folder_path = 'cifar-10-batches-py'\n",
    "\n",
    "class DLProgress(tqdm):\n",
    "    last_block = 0\n",
    "\n",
    "    def hook(self, block_num=1, block_size=1, total_size=None):\n",
    "        self.total = total_size\n",
    "        self.update((block_num - self.last_block) * block_size)\n",
    "        self.last_block = block_num\n",
    "\n",
    "if not isfile('cifar-10-python.tar.gz'):\n",
    "    with DLProgress(unit='B', unit_scale=True, miniters=1, desc='CIFAR-10 Dataset') as pbar:\n",
    "        urlretrieve('https://www.cs.toronto.edu/~kriz/cifar-10-python.tar.gz',\n",
    "                    'cifar-10-python.tar.gz', pbar.hook)\n",
    "\n",
    "if not isdir(cifar10_dataset_folder_path):\n",
    "    with tarfile.open('cifar-10-python.tar.gz') as tar:\n",
    "        tar.extractall()\n",
    "        tar.close()\n",
    "\n",
    "tests.test_folder_path(cifar10_dataset_folder_path)"
   ]
  },
  {
   "cell_type": "markdown",
   "metadata": {
    "deletable": true,
    "editable": true
   },
   "source": [
    "## Explore the Data\n",
    "The dataset is broken into batches to prevent your machine from running out of memory.  The CIFAR-10 dataset consists of 5 batches, named `data_batch_1`, `data_batch_2`, etc.. Each batch contains the labels and images that are one of the following:\n",
    "* airplane\n",
    "* automobile\n",
    "* bird\n",
    "* cat\n",
    "* deer\n",
    "* dog\n",
    "* frog\n",
    "* horse\n",
    "* ship\n",
    "* truck\n",
    "\n",
    "Understanding a dataset is part of making predictions on the data.  Play around with the code cell below by changing the `batch_id` and `sample_id`. The `batch_id` is the id for a batch (1-5). The `sample_id` is the id for a image and label pair in the batch.\n",
    "\n",
    "Ask yourself \"What are all possible labels?\", \"What is the range of values for the image data?\", \"Are the labels in order or random?\".  Answers to questions like these will help you preprocess the data and end up with better predictions."
   ]
  },
  {
   "cell_type": "code",
   "execution_count": 2,
   "metadata": {
    "collapsed": false,
    "deletable": true,
    "editable": true
   },
   "outputs": [
    {
     "name": "stdout",
     "output_type": "stream",
     "text": [
      "\n",
      "Stats of batch 1:\n",
      "Samples: 10000\n",
      "Label Counts: {0: 1005, 1: 974, 2: 1032, 3: 1016, 4: 999, 5: 937, 6: 1030, 7: 1001, 8: 1025, 9: 981}\n",
      "First 20 Labels: [6, 9, 9, 4, 1, 1, 2, 7, 8, 3, 4, 7, 7, 2, 9, 9, 9, 3, 2, 6]\n",
      "\n",
      "Example of Image 5:\n",
      "Image - Min Value: 0 Max Value: 252\n",
      "Image - Shape: (32, 32, 3)\n",
      "Label - Label Id: 1 Name: automobile\n"
     ]
    },
    {
     "data": {
      "image/png": "[encoded data removed]",
      "text/plain": [
       "<matplotlib.figure.Figure at 0x7f6402408cf8>"
      ]
     },
     "metadata": {
      "image/png": {
       "height": 250,
       "width": 253
      }
     },
     "output_type": "display_data"
    }
   ],
   "source": [
    "%matplotlib inline\n",
    "%config InlineBackend.figure_format = 'retina'\n",
    "\n",
    "import helper_img_clf as helper\n",
    "import numpy as np\n",
    "\n",
    "# Explore the dataset\n",
    "batch_id = 1\n",
    "sample_id = 5\n",
    "helper.display_stats(cifar10_dataset_folder_path, batch_id, sample_id)"
   ]
  },
  {
   "cell_type": "markdown",
   "metadata": {
    "deletable": true,
    "editable": true
   },
   "source": [
    "## Implement Preprocess Functions\n",
    "### Normalize\n",
    "In the cell below, implement the `normalize` function to take in image data, `x`, and return it as a normalized Numpy array. The values should be in the range of 0 to 1, inclusive.  The return object should be the same shape as `x`."
   ]
  },
  {
   "cell_type": "code",
   "execution_count": 3,
   "metadata": {
    "collapsed": false,
    "deletable": true,
    "editable": true
   },
   "outputs": [
    {
     "name": "stdout",
     "output_type": "stream",
     "text": [
      "Tests Passed\n"
     ]
    }
   ],
   "source": [
    "def normalize(x):\n",
    "    \"\"\"\n",
    "    Normalize a list of sample image data in the range of 0 to 1\n",
    "    : x: List of image data.  The image shape is (32, 32, 3)\n",
    "    : return: Numpy array of normalize data\n",
    "    \"\"\"\n",
    "    \n",
    "    min_val = x.min(axis=(0, 1), keepdims=True)\n",
    "    max_val = x.max(axis=(0, 1), keepdims=True)\n",
    "\n",
    "    x = (x - min_val) / (max_val - min_val)\n",
    "    \n",
    "    return x\n",
    "\n",
    "tests.test_normalize(normalize)"
   ]
  },
  {
   "cell_type": "markdown",
   "metadata": {
    "deletable": true,
    "editable": true
   },
   "source": [
    "### One-hot encode\n",
    "Just like the previous code cell, you'll be implementing a function for preprocessing.  This time, you'll implement the `one_hot_encode` function. The input, `x`, are a list of labels.  Implement the function to return the list of labels as One-Hot encoded Numpy array.  The possible values for labels are 0 to 9. The one-hot encoding function should return the same encoding for each value between each call to `one_hot_encode`."
   ]
  },
  {
   "cell_type": "code",
   "execution_count": 4,
   "metadata": {
    "collapsed": false,
    "deletable": true,
    "editable": true
   },
   "outputs": [
    {
     "name": "stdout",
     "output_type": "stream",
     "text": [
      "Tests Passed\n"
     ]
    }
   ],
   "source": [
    "def one_hot_encode(x):\n",
    "    \"\"\"\n",
    "    One hot encode a list of sample labels. Return a one-hot encoded vector for each label.\n",
    "    : x: List of sample Labels\n",
    "    : return: Numpy array of one-hot encoded labels\n",
    "    \"\"\"\n",
    "    \n",
    "    from sklearn.preprocessing import label_binarize\n",
    "    \n",
    "    return label_binarize(x, list(range(10)))\n",
    "\n",
    "tests.test_one_hot_encode(one_hot_encode)"
   ]
  },
  {
   "cell_type": "markdown",
   "metadata": {
    "deletable": true,
    "editable": true
   },
   "source": [
    "### Randomize Data\n",
    "As you saw from exploring the data above, the order of the samples are randomized.  It doesn't hurt to randomize it again, but you don't need to for this dataset."
   ]
  },
  {
   "cell_type": "markdown",
   "metadata": {
    "deletable": true,
    "editable": true
   },
   "source": [
    "## Preprocess all the data and save it\n",
    "Running the code cell below will preprocess all the CIFAR-10 data and save it to file. The code below also uses 10% of the training data for validation."
   ]
  },
  {
   "cell_type": "code",
   "execution_count": 5,
   "metadata": {
    "collapsed": false,
    "deletable": true,
    "editable": true
   },
   "outputs": [],
   "source": [
    "# Preprocess Training, Validation, and Testing Data\n",
    "helper.preprocess_and_save_data(cifar10_dataset_folder_path, normalize, one_hot_encode)"
   ]
  },
  {
   "cell_type": "markdown",
   "metadata": {
    "deletable": true,
    "editable": true
   },
   "source": [
    "# Check Point\n",
    "This is your first checkpoint.  If you ever decide to come back to this notebook or have to restart the notebook, you can start from here.  The preprocessed data has been saved to disk."
   ]
  },
  {
   "cell_type": "code",
   "execution_count": 6,
   "metadata": {
    "collapsed": true,
    "deletable": true,
    "editable": true
   },
   "outputs": [],
   "source": [
    "import pickle\n",
    "import problem_unittests_img_clf as tests\n",
    "import helper_img_clf as helper\n",
    "\n",
    "# Load the Preprocessed Validation data\n",
    "valid_features, valid_labels = pickle.load(open('preprocess_validation.p', mode='rb'))"
   ]
  },
  {
   "cell_type": "markdown",
   "metadata": {
    "deletable": true,
    "editable": true
   },
   "source": [
    "## Build the network\n",
    "For the neural network, you'll build each layer into a function.\n",
    "\n",
    "Let's begin!\n",
    "\n",
    "### Input\n",
    "The neural network needs to read the image data, one-hot encoded labels, and dropout keep probability. Implement the following functions\n",
    "* Implement `neural_net_image_input`\n",
    " * Return a [TF Placeholder](https://www.tensorflow.org/api_docs/python/tf/placeholder)\n",
    " * Set the shape using `image_shape` with batch size set to `None`.\n",
    " * Name the TensorFlow placeholder \"x\" using the TensorFlow `name` parameter in the [TF Placeholder](https://www.tensorflow.org/api_docs/python/tf/placeholder).\n",
    "* Implement `neural_net_label_input`\n",
    " * Return a [TF Placeholder](https://www.tensorflow.org/api_docs/python/tf/placeholder)\n",
    " * Set the shape using `n_classes` with batch size set to `None`.\n",
    " * Name the TensorFlow placeholder \"y\" using the TensorFlow `name` parameter in the [TF Placeholder](https://www.tensorflow.org/api_docs/python/tf/placeholder).\n",
    "* Implement `neural_net_keep_prob_input`\n",
    " * Return a [TF Placeholder](https://www.tensorflow.org/api_docs/python/tf/placeholder) for dropout keep probability.\n",
    " * Name the TensorFlow placeholder \"keep_prob\" using the TensorFlow `name` parameter in the [TF Placeholder](https://www.tensorflow.org/api_docs/python/tf/placeholder).\n",
    "\n",
    "These names will be used at the end of the project to load your saved model.\n",
    "\n",
    "Note: `None` for shapes in TensorFlow allows for a dynamic size."
   ]
  },
  {
   "cell_type": "code",
   "execution_count": 7,
   "metadata": {
    "collapsed": false,
    "deletable": true,
    "editable": true
   },
   "outputs": [
    {
     "name": "stdout",
     "output_type": "stream",
     "text": [
      "Image Input Tests Passed.\n",
      "Label Input Tests Passed.\n",
      "Keep Prob Tests Passed.\n"
     ]
    }
   ],
   "source": [
    "import tensorflow as tf\n",
    "\n",
    "def neural_net_image_input(image_shape):\n",
    "    \"\"\"\n",
    "    Return a Tensor for a bach of image input\n",
    "    : image_shape: Shape of the images\n",
    "    : return: Tensor for image input.\n",
    "    \"\"\"\n",
    "    \n",
    "    return tf.placeholder(tf.float32, [None, *(image_shape)], 'x')\n",
    "\n",
    "def neural_net_label_input(n_classes):\n",
    "    \"\"\"\n",
    "    Return a Tensor for a batch of label input\n",
    "    : n_classes: Number of classes\n",
    "    : return: Tensor for label input.\n",
    "    \"\"\"\n",
    "    \n",
    "    return tf.placeholder(tf.float32, [None, n_classes], 'y')\n",
    "\n",
    "def neural_net_keep_prob_input():\n",
    "    \"\"\"\n",
    "    Return a Tensor for keep probability\n",
    "    : return: Tensor for keep probability.\n",
    "    \"\"\"\n",
    "    \n",
    "    return tf.placeholder(tf.float32, name='keep_prob')\n",
    "\n",
    "tf.reset_default_graph()\n",
    "tests.test_nn_image_inputs(neural_net_image_input)\n",
    "tests.test_nn_label_inputs(neural_net_label_input)\n",
    "tests.test_nn_keep_prob_inputs(neural_net_keep_prob_input)"
   ]
  },
  {
   "cell_type": "markdown",
   "metadata": {
    "deletable": true,
    "editable": true
   },
   "source": [
    "### Convolution and Max Pooling Layer\n",
    "Convolution layers have a lot of success with images. For this code cell, you should implement the function `conv2d_maxpool` to apply convolution then max pooling:\n",
    "* Create the weight and bias using `conv_ksize`, `conv_num_outputs` and the shape of `x_tensor`.\n",
    "* Apply a convolution to `x_tensor` using weight and `conv_strides`.\n",
    " * We recommend you use same padding, but you're welcome to use any padding.\n",
    "* Add bias\n",
    "* Add a nonlinear activation to the convolution.\n",
    "* Apply Max Pooling using `pool_ksize` and `pool_strides`.\n",
    " * We recommend you use same padding, but you're welcome to use any padding.\n",
    "\n",
    "**Note:** You **can't** use [TensorFlow Layers](https://www.tensorflow.org/api_docs/python/tf/layers) or [TensorFlow Layers (contrib)](https://www.tensorflow.org/api_guides/python/contrib.layers) for **this** layer, but you can still use TensorFlow's [Neural Network](https://www.tensorflow.org/api_docs/python/tf/nn) package."
   ]
  },
  {
   "cell_type": "code",
   "execution_count": 8,
   "metadata": {
    "collapsed": false,
    "deletable": true,
    "editable": true
   },
   "outputs": [
    {
     "name": "stdout",
     "output_type": "stream",
     "text": [
      "Tests Passed\n"
     ]
    }
   ],
   "source": [
    "def conv2d_maxpool(x_tensor, conv_num_outputs, conv_ksize, conv_strides, pool_ksize, pool_strides):\n",
    "    \"\"\"\n",
    "    Apply convolution then max pooling to x_tensor\n",
    "    :param x_tensor: TensorFlow Tensor\n",
    "    :param conv_num_outputs: Number of outputs for the convolutional layer\n",
    "    :param conv_ksize: kernal size 2-D Tuple for the convolutional layer\n",
    "    :param conv_strides: Stride 2-D Tuple for convolution\n",
    "    :param pool_ksize: kernal size 2-D Tuple for pool\n",
    "    :param pool_strides: Stride 2-D Tuple for pool\n",
    "    : return: A tensor that represents convolution and max pooling of x_tensor\n",
    "    \"\"\"\n",
    "    \n",
    "    n_channels = int(x_tensor.get_shape()[-1])\n",
    "    weights = tf.Variable(tf.truncated_normal((*conv_ksize, n_channels, conv_num_outputs), stddev=.1))\n",
    "    bias = tf.Variable(tf.zeros(conv_num_outputs))\n",
    "    padding = 'SAME'\n",
    "    \n",
    "    conv = tf.nn.conv2d(x_tensor, weights, [1, *conv_strides, 1], padding)\n",
    "    conv = tf.nn.bias_add(conv, bias)\n",
    "    conv = tf.nn.relu(conv)\n",
    "    \n",
    "    max_pool = tf.nn.max_pool(conv, [1, *pool_ksize, 1], [1, *pool_strides, 1], padding)\n",
    "\n",
    "    return max_pool \n",
    "\n",
    "tests.test_con_pool(conv2d_maxpool)"
   ]
  },
  {
   "cell_type": "markdown",
   "metadata": {
    "deletable": true,
    "editable": true
   },
   "source": [
    "### Flatten Layer\n",
    "Implement the `flatten` function to change the dimension of `x_tensor` from a 4-D tensor to a 2-D tensor.  The output should be the shape (*Batch Size*, *Flattened Image Size*)."
   ]
  },
  {
   "cell_type": "code",
   "execution_count": 9,
   "metadata": {
    "collapsed": false,
    "deletable": true,
    "editable": true
   },
   "outputs": [
    {
     "name": "stdout",
     "output_type": "stream",
     "text": [
      "Tests Passed\n"
     ]
    }
   ],
   "source": [
    "def flatten(x_tensor):\n",
    "    \"\"\"\n",
    "    Flatten x_tensor to (Batch Size, Flattened Image Size)\n",
    "    : x_tensor: A tensor of size (Batch Size, ...), where ... are the image dimensions.\n",
    "    : return: A tensor of size (Batch Size, Flattened Image Size).\n",
    "    \"\"\"\n",
    "    \n",
    "    _, height, width, n_channels = x_tensor.get_shape().as_list()\n",
    "    dim = height * width * n_channels\n",
    "    x_tensor = tf.reshape(x_tensor, [-1, dim])\n",
    "\n",
    "    return x_tensor\n",
    "\n",
    "tests.test_flatten(flatten)"
   ]
  },
  {
   "cell_type": "markdown",
   "metadata": {
    "deletable": true,
    "editable": true
   },
   "source": [
    "### Fully-Connected Layer\n",
    "Implement the `fully_conn` function to apply a fully connected layer to `x_tensor` with the shape (*Batch Size*, *num_outputs*)."
   ]
  },
  {
   "cell_type": "code",
   "execution_count": 10,
   "metadata": {
    "collapsed": false,
    "deletable": true,
    "editable": true
   },
   "outputs": [
    {
     "name": "stdout",
     "output_type": "stream",
     "text": [
      "Tests Passed\n"
     ]
    }
   ],
   "source": [
    "def fully_conn(x_tensor, num_outputs):\n",
    "    \"\"\"\n",
    "    Apply a fully connected layer to x_tensor using weight and bias\n",
    "    : x_tensor: A 2-D tensor where the first dimension is batch size.\n",
    "    : num_outputs: The number of output that the new tensor should be.\n",
    "    : return: A 2-D tensor where the second dimension is num_outputs.\n",
    "    \"\"\"\n",
    "    \n",
    "    dim = int(x_tensor.get_shape()[-1])\n",
    "    weights = tf.Variable(tf.truncated_normal([dim, num_outputs], stddev=.1))\n",
    "    bias = tf.Variable(tf.zeros(num_outputs))\n",
    "    \n",
    "    conn = tf.nn.bias_add(tf.matmul(x_tensor, weights), bias)\n",
    "    conn = tf.nn.relu(conn)\n",
    "    \n",
    "    return conn\n",
    "\n",
    "tests.test_fully_conn(fully_conn)"
   ]
  },
  {
   "cell_type": "markdown",
   "metadata": {
    "deletable": true,
    "editable": true
   },
   "source": [
    "### Output Layer\n",
    "Implement the `output` function to apply a fully connected layer to `x_tensor` with the shape (*Batch Size*, *num_outputs*).\n",
    "\n",
    "**Note:** Activation, softmax, or cross entropy should **not** be applied to this."
   ]
  },
  {
   "cell_type": "code",
   "execution_count": 11,
   "metadata": {
    "collapsed": false,
    "deletable": true,
    "editable": true
   },
   "outputs": [
    {
     "name": "stdout",
     "output_type": "stream",
     "text": [
      "Tests Passed\n"
     ]
    }
   ],
   "source": [
    "def output(x_tensor, num_outputs):\n",
    "    \"\"\"\n",
    "    Apply a output layer to x_tensor using weight and bias\n",
    "    : x_tensor: A 2-D tensor where the first dimension is batch size.\n",
    "    : num_outputs: The number of output that the new tensor should be.\n",
    "    : return: A 2-D tensor where the second dimension is num_outputs.\n",
    "    \"\"\"\n",
    "    \n",
    "    dim = int(x_tensor.get_shape()[-1])\n",
    "    weights = tf.Variable(tf.truncated_normal([dim, num_outputs], stddev=.1))\n",
    "    bias = tf.Variable(tf.zeros(num_outputs))\n",
    "    \n",
    "    out = tf.nn.bias_add(tf.matmul(x_tensor, weights), bias)\n",
    "    \n",
    "    return out\n",
    "\n",
    "tests.test_output(output)"
   ]
  },
  {
   "cell_type": "markdown",
   "metadata": {
    "deletable": true,
    "editable": true
   },
   "source": [
    "### Create Convolutional Model\n",
    "Implement the function `conv_net` to create a convolutional neural network model. The function takes in a batch of images, `x`, and outputs logits.  Use the layers you created above to create this model:\n",
    "\n",
    "* Apply 1, 2, or 3 Convolution and Max Pool layers\n",
    "* Apply a Flatten Layer\n",
    "* Apply 1, 2, or 3 Fully Connected Layers\n",
    "* Apply an Output Layer\n",
    "* Return the output\n",
    "* Apply [TensorFlow's Dropout](https://www.tensorflow.org/api_docs/python/tf/nn/dropout) to one or more layers in the model using `keep_prob`. "
   ]
  },
  {
   "cell_type": "code",
   "execution_count": 25,
   "metadata": {
    "collapsed": false,
    "deletable": true,
    "editable": true
   },
   "outputs": [
    {
     "name": "stdout",
     "output_type": "stream",
     "text": [
      "Neural Network Built!\n"
     ]
    }
   ],
   "source": [
    "def conv_net(x, keep_prob):\n",
    "    \"\"\"\n",
    "    Create a convolutional neural network model\n",
    "    : x: Placeholder tensor that holds image data.\n",
    "    : keep_prob: Placeholder tensor that hold dropout keep probability.\n",
    "    : return: Tensor that represents logits\n",
    "    \"\"\"\n",
    "    \n",
    "    # conv2d_maxpool(x_tensor, conv_num_outputs, conv_ksize, conv_strides, pool_ksize, pool_strides)\n",
    "    \n",
    "    conv1 = conv2d_maxpool(x, conv_num_outputs=32, conv_ksize=(2, 2),\n",
    "                           conv_strides=(1, 1), pool_ksize=(2, 2), pool_strides=(1, 1))\n",
    "    \n",
    "    #conv2 = conv2d_maxpool(conv1, conv_num_outputs=12, conv_ksize=(2, 2),\n",
    "    #                       conv_strides=(1, 1), pool_ksize=(2, 2), pool_strides=(1, 1))\n",
    "    \n",
    "    conv1 = tf.nn.dropout(conv1, keep_prob)\n",
    "\n",
    "    # flatten(x_tensor)\n",
    "    \n",
    "    flat = flatten(conv1)\n",
    "\n",
    "    # fully_conn(x_tensor, num_outputs)\n",
    "    \n",
    "    conn1 = fully_conn(flat, 100)\n",
    "    conn1 = tf.nn.dropout(conn1, keep_prob)\n",
    "    \n",
    "    # output(x_tensor, num_outputs)\n",
    "    \n",
    "    out = output(conn1, num_outputs=10)\n",
    "    \n",
    "    return out\n",
    "\n",
    "##############################\n",
    "## Build the Neural Network ##\n",
    "##############################\n",
    "\n",
    "# Remove previous weights, bias, inputs, etc..\n",
    "tf.reset_default_graph()\n",
    "\n",
    "# Inputs\n",
    "x = neural_net_image_input((32, 32, 3))\n",
    "y = neural_net_label_input(10)\n",
    "keep_prob = neural_net_keep_prob_input()\n",
    "\n",
    "# Model\n",
    "logits = conv_net(x, keep_prob)\n",
    "\n",
    "# Name logits Tensor, so that is can be loaded from disk after training\n",
    "logits = tf.identity(logits, name='logits')\n",
    "\n",
    "# Loss and Optimizer\n",
    "cost = tf.reduce_mean(tf.nn.softmax_cross_entropy_with_logits(logits=logits, labels=y))\n",
    "optimizer = tf.train.AdamOptimizer().minimize(cost)\n",
    "\n",
    "# Accuracy\n",
    "correct_pred = tf.equal(tf.argmax(logits, 1), tf.argmax(y, 1))\n",
    "accuracy = tf.reduce_mean(tf.cast(correct_pred, tf.float32), name='accuracy')\n",
    "\n",
    "tests.test_conv_net(conv_net)"
   ]
  },
  {
   "cell_type": "markdown",
   "metadata": {
    "deletable": true,
    "editable": true
   },
   "source": [
    "## Train the Neural Network\n",
    "### Single Optimization\n",
    "Implement the function `train_neural_network` to do a single optimization.  The optimization should use `optimizer` to optimize in `session` with a `feed_dict` of the following:\n",
    "* `x` for image input\n",
    "* `y` for labels\n",
    "* `keep_prob` for keep probability for dropout\n",
    "\n",
    "This function will be called for each batch, so `tf.global_variables_initializer()` has already been called.\n",
    "\n",
    "Note: Nothing needs to be returned. This function is only optimizing the neural network."
   ]
  },
  {
   "cell_type": "code",
   "execution_count": 13,
   "metadata": {
    "collapsed": false,
    "deletable": true,
    "editable": true
   },
   "outputs": [
    {
     "name": "stdout",
     "output_type": "stream",
     "text": [
      "Tests Passed\n"
     ]
    }
   ],
   "source": [
    "def train_neural_network(session, optimizer, keep_probability, feature_batch, label_batch):\n",
    "    \"\"\"\n",
    "    Optimize the session on a batch of images and labels\n",
    "    : session: Current TensorFlow session\n",
    "    : optimizer: TensorFlow optimizer function\n",
    "    : keep_probability: keep probability\n",
    "    : feature_batch: Batch of Numpy image data\n",
    "    : label_batch: Batch of Numpy label data\n",
    "    \"\"\"\n",
    "    \n",
    "    session.run(optimizer, feed_dict={x: feature_batch, y: label_batch, keep_prob: keep_probability})\n",
    "\n",
    "tests.test_train_nn(train_neural_network)"
   ]
  },
  {
   "cell_type": "markdown",
   "metadata": {
    "deletable": true,
    "editable": true
   },
   "source": [
    "### Show Stats\n",
    "Implement the function `print_stats` to print loss and validation accuracy.  Use the global variables `valid_features` and `valid_labels` to calculate validation accuracy.  Use a keep probability of `1.0` to calculate the loss and validation accuracy."
   ]
  },
  {
   "cell_type": "code",
   "execution_count": 17,
   "metadata": {
    "collapsed": false,
    "deletable": true,
    "editable": true
   },
   "outputs": [],
   "source": [
    "def print_stats(session, feature_batch, label_batch, cost, accuracy):\n",
    "    \"\"\"\n",
    "    Print information about loss and validation accuracy\n",
    "    : session: Current TensorFlow session\n",
    "    : feature_batch: Batch of Numpy image data\n",
    "    : label_batch: Batch of Numpy label data\n",
    "    : cost: TensorFlow cost function\n",
    "    : accuracy: TensorFlow accuracy function\n",
    "    \"\"\"\n",
    "    \n",
    "    loss = session.run(cost, feed_dict={x: feature_batch, y: label_batch, keep_prob: 1.})\n",
    "    val_acc = session.run(accuracy, feed_dict={x: valid_features, y: valid_labels, keep_prob: 1.})\n",
    "    train_acc = session.run(accuracy, feed_dict={x: feature_batch, y: label_batch, keep_prob: 1.})\n",
    "    \n",
    "    print('Loss: {}\\tValidation accuracy: {}\\tTraining accuracy: {}'.format(loss, val_acc, train_acc))"
   ]
  },
  {
   "cell_type": "markdown",
   "metadata": {
    "deletable": true,
    "editable": true
   },
   "source": [
    "### Hyperparameters\n",
    "Tune the following parameters:\n",
    "* Set `epochs` to the number of iterations until the network stops learning or start overfitting\n",
    "* Set `batch_size` to the highest number that your machine has memory for.  Most people set them to common sizes of memory:\n",
    " * 64\n",
    " * 128\n",
    " * 256\n",
    " * ...\n",
    "* Set `keep_probability` to the probability of keeping a node using dropout"
   ]
  },
  {
   "cell_type": "code",
   "execution_count": 27,
   "metadata": {
    "collapsed": true,
    "deletable": true,
    "editable": true
   },
   "outputs": [],
   "source": [
    "epochs = 20\n",
    "batch_size = 2500\n",
    "keep_probability = .5"
   ]
  },
  {
   "cell_type": "markdown",
   "metadata": {
    "deletable": true,
    "editable": true
   },
   "source": [
    "### Train on a Single CIFAR-10 Batch\n",
    "Instead of training the neural network on all the CIFAR-10 batches of data, let's use a single batch. This should save time while you iterate on the model to get a better accuracy.  Once the final validation accuracy is 50% or greater, run the model on all the data in the next section."
   ]
  },
  {
   "cell_type": "code",
   "execution_count": 26,
   "metadata": {
    "collapsed": false,
    "deletable": true,
    "editable": true
   },
   "outputs": [
    {
     "name": "stdout",
     "output_type": "stream",
     "text": [
      "Checking the Training on a Single Batch...\n",
      "Epoch  1, CIFAR-10 Batch 1:  Loss: 2.311007499694824\tValidation accuracy: 0.11919999867677689\tTraining accuracy: 0.10999999195337296\n",
      "Epoch  2, CIFAR-10 Batch 1:  Loss: 2.302978754043579\tValidation accuracy: 0.10080000013113022\tTraining accuracy: 0.09333333373069763\n",
      "Epoch  3, CIFAR-10 Batch 1:  Loss: 2.3024582862854004\tValidation accuracy: 0.09679999202489853\tTraining accuracy: 0.10333333164453506\n",
      "Epoch  4, CIFAR-10 Batch 1:  Loss: 2.302168369293213\tValidation accuracy: 0.09679999202489853\tTraining accuracy: 0.10333333164453506\n",
      "Epoch  5, CIFAR-10 Batch 1:  Loss: 2.3005526065826416\tValidation accuracy: 0.09759999811649323\tTraining accuracy: 0.10399999469518661\n",
      "Epoch  6, CIFAR-10 Batch 1:  Loss: 2.29079532623291\tValidation accuracy: 0.0965999960899353\tTraining accuracy: 0.10466666519641876\n",
      "Epoch  7, CIFAR-10 Batch 1:  Loss: 2.2785744667053223\tValidation accuracy: 0.10320000350475311\tTraining accuracy: 0.12466666102409363\n",
      "Epoch  8, CIFAR-10 Batch 1:  Loss: 2.250526189804077\tValidation accuracy: 0.16979999840259552\tTraining accuracy: 0.17866666615009308\n",
      "Epoch  9, CIFAR-10 Batch 1:  Loss: 2.206148624420166\tValidation accuracy: 0.15939998626708984\tTraining accuracy: 0.18133333325386047\n",
      "Epoch 10, CIFAR-10 Batch 1:  Loss: 2.1994240283966064\tValidation accuracy: 0.17059999704360962\tTraining accuracy: 0.1899999976158142\n",
      "Epoch 11, CIFAR-10 Batch 1:  Loss: 2.176060199737549\tValidation accuracy: 0.18379999697208405\tTraining accuracy: 0.1926666647195816\n",
      "Epoch 12, CIFAR-10 Batch 1:  Loss: 2.1377480030059814\tValidation accuracy: 0.18759998679161072\tTraining accuracy: 0.1939999908208847\n",
      "Epoch 13, CIFAR-10 Batch 1:  Loss: 2.1353626251220703\tValidation accuracy: 0.19179999828338623\tTraining accuracy: 0.20000000298023224\n",
      "Epoch 14, CIFAR-10 Batch 1:  Loss: 2.1141741275787354\tValidation accuracy: 0.20059998333454132\tTraining accuracy: 0.21333332359790802\n",
      "Epoch 15, CIFAR-10 Batch 1:  Loss: 2.0903773307800293\tValidation accuracy: 0.2199999988079071\tTraining accuracy: 0.23799999058246613\n",
      "Epoch 16, CIFAR-10 Batch 1:  Loss: 2.0783770084381104\tValidation accuracy: 0.2184000015258789\tTraining accuracy: 0.23933333158493042\n",
      "Epoch 17, CIFAR-10 Batch 1:  Loss: 2.0524582862854004\tValidation accuracy: 0.2515999674797058\tTraining accuracy: 0.2459999918937683\n",
      "Epoch 18, CIFAR-10 Batch 1:  Loss: 2.033367156982422\tValidation accuracy: 0.2573999762535095\tTraining accuracy: 0.25999999046325684\n",
      "Epoch 19, CIFAR-10 Batch 1:  Loss: 2.0134377479553223\tValidation accuracy: 0.25360000133514404\tTraining accuracy: 0.26466667652130127\n",
      "Epoch 20, CIFAR-10 Batch 1:  Loss: 1.9952433109283447\tValidation accuracy: 0.27459999918937683\tTraining accuracy: 0.28333330154418945\n",
      "Epoch 21, CIFAR-10 Batch 1:  Loss: 1.9639875888824463\tValidation accuracy: 0.282399982213974\tTraining accuracy: 0.30000001192092896\n",
      "Epoch 22, CIFAR-10 Batch 1:  Loss: 1.9487155675888062\tValidation accuracy: 0.2927999794483185\tTraining accuracy: 0.3213333189487457\n",
      "Epoch 23, CIFAR-10 Batch 1:  Loss: 1.9251470565795898\tValidation accuracy: 0.31039997935295105\tTraining accuracy: 0.32200002670288086\n",
      "Epoch 24, CIFAR-10 Batch 1:  Loss: 1.8830678462982178\tValidation accuracy: 0.3245999813079834\tTraining accuracy: 0.33266663551330566\n",
      "Epoch 25, CIFAR-10 Batch 1:  Loss: 1.8726297616958618\tValidation accuracy: 0.35099998116493225\tTraining accuracy: 0.3540000021457672\n",
      "Epoch 26, CIFAR-10 Batch 1:  Loss: 1.8543165922164917\tValidation accuracy: 0.3505999743938446\tTraining accuracy: 0.3566666543483734\n",
      "Epoch 27, CIFAR-10 Batch 1:  Loss: 1.8098677396774292\tValidation accuracy: 0.36419999599456787\tTraining accuracy: 0.36399999260902405\n",
      "Epoch 28, CIFAR-10 Batch 1:  Loss: 1.7904644012451172\tValidation accuracy: 0.3723999857902527\tTraining accuracy: 0.38199999928474426\n",
      "Epoch 29, CIFAR-10 Batch 1:  Loss: 1.7530460357666016\tValidation accuracy: 0.386199951171875\tTraining accuracy: 0.390666663646698\n",
      "Epoch 30, CIFAR-10 Batch 1:  Loss: 1.737174391746521\tValidation accuracy: 0.39959996938705444\tTraining accuracy: 0.40799999237060547\n",
      "Epoch 31, CIFAR-10 Batch 1:  Loss: 1.7038440704345703\tValidation accuracy: 0.4097999930381775\tTraining accuracy: 0.4166666567325592\n",
      "Epoch 32, CIFAR-10 Batch 1:  Loss: 1.6753425598144531\tValidation accuracy: 0.41339996457099915\tTraining accuracy: 0.4206666350364685\n",
      "Epoch 33, CIFAR-10 Batch 1:  Loss: 1.6488337516784668\tValidation accuracy: 0.41819998621940613\tTraining accuracy: 0.4493333399295807\n",
      "Epoch 34, CIFAR-10 Batch 1:  Loss: 1.6140141487121582\tValidation accuracy: 0.4315999746322632\tTraining accuracy: 0.4560000002384186\n",
      "Epoch 35, CIFAR-10 Batch 1:  Loss: 1.5846806764602661\tValidation accuracy: 0.4373999834060669\tTraining accuracy: 0.46799996495246887\n",
      "Epoch 36, CIFAR-10 Batch 1:  Loss: 1.5675855875015259\tValidation accuracy: 0.4309999644756317\tTraining accuracy: 0.4753333330154419\n",
      "Epoch 37, CIFAR-10 Batch 1:  Loss: 1.5366497039794922\tValidation accuracy: 0.44579994678497314\tTraining accuracy: 0.4846666157245636\n",
      "Epoch 38, CIFAR-10 Batch 1:  Loss: 1.5197194814682007\tValidation accuracy: 0.4567999541759491\tTraining accuracy: 0.4946666359901428\n",
      "Epoch 39, CIFAR-10 Batch 1:  Loss: 1.5055766105651855\tValidation accuracy: 0.4591999351978302\tTraining accuracy: 0.5019999742507935\n",
      "Epoch 40, CIFAR-10 Batch 1:  Loss: 1.4552603960037231\tValidation accuracy: 0.4719999432563782\tTraining accuracy: 0.5173333287239075\n",
      "Epoch 41, CIFAR-10 Batch 1:  Loss: 1.44526207447052\tValidation accuracy: 0.4793999493122101\tTraining accuracy: 0.5299999713897705\n",
      "Epoch 42, CIFAR-10 Batch 1:  Loss: 1.4132214784622192\tValidation accuracy: 0.4861999452114105\tTraining accuracy: 0.5346666574478149\n",
      "Epoch 43, CIFAR-10 Batch 1:  Loss: 1.3924427032470703\tValidation accuracy: 0.48659995198249817\tTraining accuracy: 0.5519999861717224\n",
      "Epoch 44, CIFAR-10 Batch 1:  Loss: 1.373166799545288\tValidation accuracy: 0.49139994382858276\tTraining accuracy: 0.5559999942779541\n",
      "Epoch 45, CIFAR-10 Batch 1:  Loss: 1.3427174091339111\tValidation accuracy: 0.49379995465278625\tTraining accuracy: 0.5546666383743286\n",
      "Epoch 46, CIFAR-10 Batch 1:  Loss: 1.3337420225143433\tValidation accuracy: 0.4995999038219452\tTraining accuracy: 0.5720000267028809\n",
      "Epoch 47, CIFAR-10 Batch 1:  Loss: 1.3131756782531738\tValidation accuracy: 0.5003999471664429\tTraining accuracy: 0.5719999670982361\n",
      "Epoch 48, CIFAR-10 Batch 1:  Loss: 1.300060510635376\tValidation accuracy: 0.5039999485015869\tTraining accuracy: 0.575333297252655\n",
      "Epoch 49, CIFAR-10 Batch 1:  Loss: 1.2797421216964722\tValidation accuracy: 0.5049999356269836\tTraining accuracy: 0.5959999561309814\n",
      "Epoch 50, CIFAR-10 Batch 1:  Loss: 1.2412614822387695\tValidation accuracy: 0.5105999708175659\tTraining accuracy: 0.5999999642372131\n",
      "Epoch 51, CIFAR-10 Batch 1:  Loss: 1.2370035648345947\tValidation accuracy: 0.5067999362945557\tTraining accuracy: 0.6033332943916321\n",
      "Epoch 52, CIFAR-10 Batch 1:  Loss: 1.22422456741333\tValidation accuracy: 0.5107999444007874\tTraining accuracy: 0.5979999899864197\n",
      "Epoch 53, CIFAR-10 Batch 1:  Loss: 1.197323203086853\tValidation accuracy: 0.5189999341964722\tTraining accuracy: 0.6139999628067017\n",
      "Epoch 54, CIFAR-10 Batch 1:  Loss: 1.188646674156189\tValidation accuracy: 0.5187999606132507\tTraining accuracy: 0.6199999451637268\n",
      "Epoch 55, CIFAR-10 Batch 1:  Loss: 1.173249363899231\tValidation accuracy: 0.5163999199867249\tTraining accuracy: 0.6139999628067017\n",
      "Epoch 56, CIFAR-10 Batch 1:  Loss: 1.152624249458313\tValidation accuracy: 0.5193999409675598\tTraining accuracy: 0.6266666650772095\n",
      "Epoch 57, CIFAR-10 Batch 1:  Loss: 1.1392792463302612\tValidation accuracy: 0.52239990234375\tTraining accuracy: 0.6319999694824219\n",
      "Epoch 58, CIFAR-10 Batch 1:  Loss: 1.1213829517364502\tValidation accuracy: 0.5227999091148376\tTraining accuracy: 0.6386666297912598\n",
      "Epoch 59, CIFAR-10 Batch 1:  Loss: 1.1038331985473633\tValidation accuracy: 0.5263999700546265\tTraining accuracy: 0.6446666717529297\n",
      "Epoch 60, CIFAR-10 Batch 1:  Loss: 1.0929737091064453\tValidation accuracy: 0.5293999314308167\tTraining accuracy: 0.6513333320617676\n"
     ]
    }
   ],
   "source": [
    "print('Checking the Training on a Single Batch...')\n",
    "with tf.Session() as sess:\n",
    "    # Initializing the variables\n",
    "    sess.run(tf.global_variables_initializer())\n",
    "    \n",
    "    # Training cycle\n",
    "    for epoch in range(epochs):\n",
    "        batch_i = 1\n",
    "        for batch_features, batch_labels in helper.load_preprocess_training_batch(batch_i, batch_size):\n",
    "            train_neural_network(sess, optimizer, keep_probability, batch_features, batch_labels)\n",
    "        print('Epoch {:>2}, CIFAR-10 Batch {}:  '.format(epoch + 1, batch_i), end='')\n",
    "        print_stats(sess, batch_features, batch_labels, cost, accuracy)"
   ]
  },
  {
   "cell_type": "markdown",
   "metadata": {
    "deletable": true,
    "editable": true
   },
   "source": [
    "### Fully Train the Model\n",
    "Now that you got a good accuracy with a single CIFAR-10 batch, try it with all five batches."
   ]
  },
  {
   "cell_type": "code",
   "execution_count": 28,
   "metadata": {
    "collapsed": false,
    "deletable": true,
    "editable": true
   },
   "outputs": [
    {
     "name": "stdout",
     "output_type": "stream",
     "text": [
      "Training...\n",
      "Epoch  1, CIFAR-10 Batch 1:  Loss: 2.3037760257720947\tValidation accuracy: 0.113599993288517\tTraining accuracy: 0.10799999535083771\n",
      "Epoch  1, CIFAR-10 Batch 2:  Loss: 2.302530527114868\tValidation accuracy: 0.09999999403953552\tTraining accuracy: 0.1080000028014183\n",
      "Epoch  1, CIFAR-10 Batch 3:  Loss: 2.3026123046875\tValidation accuracy: 0.10039999336004257\tTraining accuracy: 0.09133332967758179\n",
      "Epoch  1, CIFAR-10 Batch 4:  Loss: 2.3022100925445557\tValidation accuracy: 0.10779999196529388\tTraining accuracy: 0.10999999940395355\n",
      "Epoch  1, CIFAR-10 Batch 5:  Loss: 2.2744076251983643\tValidation accuracy: 0.14499998092651367\tTraining accuracy: 0.16199998557567596\n",
      "Epoch  2, CIFAR-10 Batch 1:  Loss: 2.278930187225342\tValidation accuracy: 0.16600000858306885\tTraining accuracy: 0.15399999916553497\n",
      "Epoch  2, CIFAR-10 Batch 2:  Loss: 2.2846462726593018\tValidation accuracy: 0.17339998483657837\tTraining accuracy: 0.1706666648387909\n",
      "Epoch  2, CIFAR-10 Batch 3:  Loss: 2.271075963973999\tValidation accuracy: 0.16599999368190765\tTraining accuracy: 0.14399999380111694\n",
      "Epoch  2, CIFAR-10 Batch 4:  Loss: 2.2629406452178955\tValidation accuracy: 0.1687999963760376\tTraining accuracy: 0.17866666615009308\n",
      "Epoch  2, CIFAR-10 Batch 5:  Loss: 2.2574808597564697\tValidation accuracy: 0.17739999294281006\tTraining accuracy: 0.18933331966400146\n",
      "Epoch  3, CIFAR-10 Batch 1:  Loss: 2.2436392307281494\tValidation accuracy: 0.17479999363422394\tTraining accuracy: 0.1626666635274887\n",
      "Epoch  3, CIFAR-10 Batch 2:  Loss: 2.243350028991699\tValidation accuracy: 0.17819997668266296\tTraining accuracy: 0.18266665935516357\n",
      "Epoch  3, CIFAR-10 Batch 3:  Loss: 2.2358880043029785\tValidation accuracy: 0.1777999848127365\tTraining accuracy: 0.16066665947437286\n",
      "Epoch  3, CIFAR-10 Batch 4:  Loss: 2.2136683464050293\tValidation accuracy: 0.17399999499320984\tTraining accuracy: 0.18066665530204773\n",
      "Epoch  3, CIFAR-10 Batch 5:  Loss: 2.1796746253967285\tValidation accuracy: 0.19499999284744263\tTraining accuracy: 0.21799997985363007\n",
      "Epoch  4, CIFAR-10 Batch 1:  Loss: 2.1614792346954346\tValidation accuracy: 0.20179998874664307\tTraining accuracy: 0.1993333399295807\n",
      "Epoch  4, CIFAR-10 Batch 2:  Loss: 2.141866683959961\tValidation accuracy: 0.21599999070167542\tTraining accuracy: 0.21933332085609436\n",
      "Epoch  4, CIFAR-10 Batch 3:  Loss: 2.109619140625\tValidation accuracy: 0.2231999784708023\tTraining accuracy: 0.1966666579246521\n",
      "Epoch  4, CIFAR-10 Batch 4:  Loss: 2.097144842147827\tValidation accuracy: 0.22259998321533203\tTraining accuracy: 0.23866663873195648\n",
      "Epoch  4, CIFAR-10 Batch 5:  Loss: 2.057319402694702\tValidation accuracy: 0.2361999750137329\tTraining accuracy: 0.24333332479000092\n",
      "Epoch  5, CIFAR-10 Batch 1:  Loss: 2.0592334270477295\tValidation accuracy: 0.24219998717308044\tTraining accuracy: 0.24066665768623352\n",
      "Epoch  5, CIFAR-10 Batch 2:  Loss: 2.025913715362549\tValidation accuracy: 0.257999986410141\tTraining accuracy: 0.2639999985694885\n",
      "Epoch  5, CIFAR-10 Batch 3:  Loss: 2.0026068687438965\tValidation accuracy: 0.28139999508857727\tTraining accuracy: 0.25599998235702515\n",
      "Epoch  5, CIFAR-10 Batch 4:  Loss: 1.9753410816192627\tValidation accuracy: 0.27459999918937683\tTraining accuracy: 0.2933332920074463\n",
      "Epoch  5, CIFAR-10 Batch 5:  Loss: 1.9634257555007935\tValidation accuracy: 0.30059996247291565\tTraining accuracy: 0.29999998211860657\n",
      "Epoch  6, CIFAR-10 Batch 1:  Loss: 1.953521728515625\tValidation accuracy: 0.28619998693466187\tTraining accuracy: 0.3019999861717224\n",
      "Epoch  6, CIFAR-10 Batch 2:  Loss: 1.92390775680542\tValidation accuracy: 0.3174000382423401\tTraining accuracy: 0.32466667890548706\n",
      "Epoch  6, CIFAR-10 Batch 3:  Loss: 1.9106876850128174\tValidation accuracy: 0.3211999833583832\tTraining accuracy: 0.30533334612846375\n",
      "Epoch  6, CIFAR-10 Batch 4:  Loss: 1.8734649419784546\tValidation accuracy: 0.31279999017715454\tTraining accuracy: 0.32866665720939636\n",
      "Epoch  6, CIFAR-10 Batch 5:  Loss: 1.8772252798080444\tValidation accuracy: 0.33980000019073486\tTraining accuracy: 0.3306666314601898\n",
      "Epoch  7, CIFAR-10 Batch 1:  Loss: 1.8713845014572144\tValidation accuracy: 0.33639997243881226\tTraining accuracy: 0.3386666774749756\n",
      "Epoch  7, CIFAR-10 Batch 2:  Loss: 1.8467507362365723\tValidation accuracy: 0.3482000231742859\tTraining accuracy: 0.3579999804496765\n",
      "Epoch  7, CIFAR-10 Batch 3:  Loss: 1.8206559419631958\tValidation accuracy: 0.35739994049072266\tTraining accuracy: 0.35199999809265137\n",
      "Epoch  7, CIFAR-10 Batch 4:  Loss: 1.8160033226013184\tValidation accuracy: 0.34200000762939453\tTraining accuracy: 0.34599998593330383\n",
      "Epoch  7, CIFAR-10 Batch 5:  Loss: 1.811159372329712\tValidation accuracy: 0.35339999198913574\tTraining accuracy: 0.3346666693687439\n",
      "Epoch  8, CIFAR-10 Batch 1:  Loss: 1.7995282411575317\tValidation accuracy: 0.34299999475479126\tTraining accuracy: 0.3333333432674408\n",
      "Epoch  8, CIFAR-10 Batch 2:  Loss: 1.7987902164459229\tValidation accuracy: 0.3681999444961548\tTraining accuracy: 0.3726666569709778\n",
      "Epoch  8, CIFAR-10 Batch 3:  Loss: 1.7644041776657104\tValidation accuracy: 0.36239996552467346\tTraining accuracy: 0.36000001430511475\n",
      "Epoch  8, CIFAR-10 Batch 4:  Loss: 1.7511368989944458\tValidation accuracy: 0.35999998450279236\tTraining accuracy: 0.3706666827201843\n",
      "Epoch  8, CIFAR-10 Batch 5:  Loss: 1.7428432703018188\tValidation accuracy: 0.3765999674797058\tTraining accuracy: 0.3713333010673523\n",
      "Epoch  9, CIFAR-10 Batch 1:  Loss: 1.717069387435913\tValidation accuracy: 0.3805999755859375\tTraining accuracy: 0.3793333172798157\n",
      "Epoch  9, CIFAR-10 Batch 2:  Loss: 1.7371017932891846\tValidation accuracy: 0.40699994564056396\tTraining accuracy: 0.4039999544620514\n",
      "Epoch  9, CIFAR-10 Batch 3:  Loss: 1.702351689338684\tValidation accuracy: 0.4057999849319458\tTraining accuracy: 0.4093332886695862\n",
      "Epoch  9, CIFAR-10 Batch 4:  Loss: 1.686009407043457\tValidation accuracy: 0.3977999985218048\tTraining accuracy: 0.39666667580604553\n",
      "Epoch  9, CIFAR-10 Batch 5:  Loss: 1.6796901226043701\tValidation accuracy: 0.4079999625682831\tTraining accuracy: 0.40533334016799927\n",
      "Epoch 10, CIFAR-10 Batch 1:  Loss: 1.65726637840271\tValidation accuracy: 0.4083999991416931\tTraining accuracy: 0.4079999625682831\n",
      "Epoch 10, CIFAR-10 Batch 2:  Loss: 1.682709813117981\tValidation accuracy: 0.42639997601509094\tTraining accuracy: 0.4559999406337738\n",
      "Epoch 10, CIFAR-10 Batch 3:  Loss: 1.6230436563491821\tValidation accuracy: 0.4275999665260315\tTraining accuracy: 0.4366666376590729\n",
      "Epoch 10, CIFAR-10 Batch 4:  Loss: 1.6124253273010254\tValidation accuracy: 0.43619996309280396\tTraining accuracy: 0.445333331823349\n",
      "Epoch 10, CIFAR-10 Batch 5:  Loss: 1.6209123134613037\tValidation accuracy: 0.4399999976158142\tTraining accuracy: 0.44866666197776794\n",
      "Epoch 11, CIFAR-10 Batch 1:  Loss: 1.59726083278656\tValidation accuracy: 0.44659996032714844\tTraining accuracy: 0.4513333737850189\n",
      "Epoch 11, CIFAR-10 Batch 2:  Loss: 1.6092203855514526\tValidation accuracy: 0.4422000050544739\tTraining accuracy: 0.4833333194255829\n",
      "Epoch 11, CIFAR-10 Batch 3:  Loss: 1.551306962966919\tValidation accuracy: 0.44359999895095825\tTraining accuracy: 0.4713333249092102\n",
      "Epoch 11, CIFAR-10 Batch 4:  Loss: 1.5593457221984863\tValidation accuracy: 0.4635999798774719\tTraining accuracy: 0.47066664695739746\n",
      "Epoch 11, CIFAR-10 Batch 5:  Loss: 1.5452603101730347\tValidation accuracy: 0.46699997782707214\tTraining accuracy: 0.4859999716281891\n",
      "Epoch 12, CIFAR-10 Batch 1:  Loss: 1.5299839973449707\tValidation accuracy: 0.4681999683380127\tTraining accuracy: 0.48533332347869873\n",
      "Epoch 12, CIFAR-10 Batch 2:  Loss: 1.5408484935760498\tValidation accuracy: 0.4769999384880066\tTraining accuracy: 0.5173332691192627\n",
      "Epoch 12, CIFAR-10 Batch 3:  Loss: 1.4931610822677612\tValidation accuracy: 0.48259997367858887\tTraining accuracy: 0.5046666860580444\n",
      "Epoch 12, CIFAR-10 Batch 4:  Loss: 1.499866247177124\tValidation accuracy: 0.4747999310493469\tTraining accuracy: 0.4933333396911621\n",
      "Epoch 12, CIFAR-10 Batch 5:  Loss: 1.4983766078948975\tValidation accuracy: 0.48379993438720703\tTraining accuracy: 0.5039999485015869\n",
      "Epoch 13, CIFAR-10 Batch 1:  Loss: 1.469924807548523\tValidation accuracy: 0.49199992418289185\tTraining accuracy: 0.5046666860580444\n",
      "Epoch 13, CIFAR-10 Batch 2:  Loss: 1.4723955392837524\tValidation accuracy: 0.488599956035614\tTraining accuracy: 0.518666684627533\n",
      "Epoch 13, CIFAR-10 Batch 3:  Loss: 1.4415255784988403\tValidation accuracy: 0.4999999403953552\tTraining accuracy: 0.5173333287239075\n",
      "Epoch 13, CIFAR-10 Batch 4:  Loss: 1.4350953102111816\tValidation accuracy: 0.4901999235153198\tTraining accuracy: 0.503333330154419\n",
      "Epoch 13, CIFAR-10 Batch 5:  Loss: 1.4406402111053467\tValidation accuracy: 0.4931999742984772\tTraining accuracy: 0.5166666507720947\n",
      "Epoch 14, CIFAR-10 Batch 1:  Loss: 1.4262970685958862\tValidation accuracy: 0.5015999674797058\tTraining accuracy: 0.5246666073799133\n",
      "Epoch 14, CIFAR-10 Batch 2:  Loss: 1.4310228824615479\tValidation accuracy: 0.5059999227523804\tTraining accuracy: 0.5253332853317261\n",
      "Epoch 14, CIFAR-10 Batch 3:  Loss: 1.3862028121948242\tValidation accuracy: 0.5121999382972717\tTraining accuracy: 0.5293332934379578\n",
      "Epoch 14, CIFAR-10 Batch 4:  Loss: 1.3815598487854004\tValidation accuracy: 0.506399929523468\tTraining accuracy: 0.5239999890327454\n",
      "Epoch 14, CIFAR-10 Batch 5:  Loss: 1.3883624076843262\tValidation accuracy: 0.5085999369621277\tTraining accuracy: 0.5393332839012146\n",
      "Epoch 15, CIFAR-10 Batch 1:  Loss: 1.383243441581726\tValidation accuracy: 0.5217999219894409\tTraining accuracy: 0.5479999780654907\n",
      "Epoch 15, CIFAR-10 Batch 2:  Loss: 1.3725825548171997\tValidation accuracy: 0.5175999402999878\tTraining accuracy: 0.5433332920074463\n",
      "Epoch 15, CIFAR-10 Batch 3:  Loss: 1.3360627889633179\tValidation accuracy: 0.5179999470710754\tTraining accuracy: 0.5513333082199097\n",
      "Epoch 15, CIFAR-10 Batch 4:  Loss: 1.3528389930725098\tValidation accuracy: 0.5135999917984009\tTraining accuracy: 0.5366666316986084\n",
      "Epoch 15, CIFAR-10 Batch 5:  Loss: 1.3493152856826782\tValidation accuracy: 0.5259999632835388\tTraining accuracy: 0.5526666641235352\n",
      "Epoch 16, CIFAR-10 Batch 1:  Loss: 1.3428517580032349\tValidation accuracy: 0.5277999639511108\tTraining accuracy: 0.5546666383743286\n",
      "Epoch 16, CIFAR-10 Batch 2:  Loss: 1.3383898735046387\tValidation accuracy: 0.5245999097824097\tTraining accuracy: 0.5519999861717224\n",
      "Epoch 16, CIFAR-10 Batch 3:  Loss: 1.293470859527588\tValidation accuracy: 0.5243999361991882\tTraining accuracy: 0.5639999508857727\n",
      "Epoch 16, CIFAR-10 Batch 4:  Loss: 1.3105034828186035\tValidation accuracy: 0.5307999849319458\tTraining accuracy: 0.5546666979789734\n",
      "Epoch 16, CIFAR-10 Batch 5:  Loss: 1.3165719509124756\tValidation accuracy: 0.5361999273300171\tTraining accuracy: 0.562666654586792\n",
      "Epoch 17, CIFAR-10 Batch 1:  Loss: 1.3018004894256592\tValidation accuracy: 0.5365999937057495\tTraining accuracy: 0.5740000009536743\n",
      "Epoch 17, CIFAR-10 Batch 2:  Loss: 1.2995188236236572\tValidation accuracy: 0.5397999286651611\tTraining accuracy: 0.5586666464805603\n",
      "Epoch 17, CIFAR-10 Batch 3:  Loss: 1.2653801441192627\tValidation accuracy: 0.5393998622894287\tTraining accuracy: 0.5766667127609253\n",
      "Epoch 17, CIFAR-10 Batch 4:  Loss: 1.266908049583435\tValidation accuracy: 0.5385999083518982\tTraining accuracy: 0.5606666207313538\n",
      "Epoch 17, CIFAR-10 Batch 5:  Loss: 1.2720482349395752\tValidation accuracy: 0.543199896812439\tTraining accuracy: 0.5640000104904175\n",
      "Epoch 18, CIFAR-10 Batch 1:  Loss: 1.269239068031311\tValidation accuracy: 0.5415999889373779\tTraining accuracy: 0.578000009059906\n",
      "Epoch 18, CIFAR-10 Batch 2:  Loss: 1.2793593406677246\tValidation accuracy: 0.5395999550819397\tTraining accuracy: 0.5706666111946106\n",
      "Epoch 18, CIFAR-10 Batch 3:  Loss: 1.2270941734313965\tValidation accuracy: 0.546799898147583\tTraining accuracy: 0.5866667032241821\n",
      "Epoch 18, CIFAR-10 Batch 4:  Loss: 1.2358256578445435\tValidation accuracy: 0.5433999300003052\tTraining accuracy: 0.5706666707992554\n",
      "Epoch 18, CIFAR-10 Batch 5:  Loss: 1.2537689208984375\tValidation accuracy: 0.5497999787330627\tTraining accuracy: 0.5726666450500488\n",
      "Epoch 19, CIFAR-10 Batch 1:  Loss: 1.244014024734497\tValidation accuracy: 0.5449999570846558\tTraining accuracy: 0.5879999399185181\n",
      "Epoch 19, CIFAR-10 Batch 2:  Loss: 1.241369366645813\tValidation accuracy: 0.5481999516487122\tTraining accuracy: 0.5773333311080933\n",
      "Epoch 19, CIFAR-10 Batch 3:  Loss: 1.215294361114502\tValidation accuracy: 0.5457999110221863\tTraining accuracy: 0.5893332958221436\n",
      "Epoch 19, CIFAR-10 Batch 4:  Loss: 1.2181147336959839\tValidation accuracy: 0.5517998933792114\tTraining accuracy: 0.5793333053588867\n",
      "Epoch 19, CIFAR-10 Batch 5:  Loss: 1.2178351879119873\tValidation accuracy: 0.5511999130249023\tTraining accuracy: 0.5899999737739563\n",
      "Epoch 20, CIFAR-10 Batch 1:  Loss: 1.227431058883667\tValidation accuracy: 0.5489999055862427\tTraining accuracy: 0.5953333377838135\n",
      "Epoch 20, CIFAR-10 Batch 2:  Loss: 1.233699083328247\tValidation accuracy: 0.5537998676300049\tTraining accuracy: 0.5860000252723694\n",
      "Epoch 20, CIFAR-10 Batch 3:  Loss: 1.1842018365859985\tValidation accuracy: 0.5565999150276184\tTraining accuracy: 0.6046666502952576\n",
      "Epoch 20, CIFAR-10 Batch 4:  Loss: 1.1882610321044922\tValidation accuracy: 0.5527999401092529\tTraining accuracy: 0.5773332715034485\n",
      "Epoch 20, CIFAR-10 Batch 5:  Loss: 1.1925595998764038\tValidation accuracy: 0.5505999326705933\tTraining accuracy: 0.6073333024978638\n"
     ]
    }
   ],
   "source": [
    "save_model_path = './image_classification'\n",
    "\n",
    "print('Training...')\n",
    "with tf.Session() as sess:\n",
    "    # Initializing the variables\n",
    "    sess.run(tf.global_variables_initializer())\n",
    "    \n",
    "    # Training cycle\n",
    "    for epoch in range(epochs):\n",
    "        # Loop over all batches\n",
    "        n_batches = 5\n",
    "        for batch_i in range(1, n_batches + 1):\n",
    "            for batch_features, batch_labels in helper.load_preprocess_training_batch(batch_i, batch_size):\n",
    "                train_neural_network(sess, optimizer, keep_probability, batch_features, batch_labels)\n",
    "            print('Epoch {:>2}, CIFAR-10 Batch {}:  '.format(epoch + 1, batch_i), end='')\n",
    "            print_stats(sess, batch_features, batch_labels, cost, accuracy)\n",
    "            \n",
    "    # Save Model\n",
    "    saver = tf.train.Saver()\n",
    "    save_path = saver.save(sess, save_model_path)"
   ]
  },
  {
   "cell_type": "markdown",
   "metadata": {
    "deletable": true,
    "editable": true
   },
   "source": [
    "# Checkpoint\n",
    "The model has been saved to disk.\n",
    "## Test Model\n",
    "Test your model against the test dataset.  This will be your final accuracy. You should have an accuracy greater than 50%. If you don't, keep tweaking the model architecture and parameters."
   ]
  },
  {
   "cell_type": "code",
   "execution_count": 29,
   "metadata": {
    "collapsed": false,
    "deletable": true,
    "editable": true
   },
   "outputs": [
    {
     "name": "stdout",
     "output_type": "stream",
     "text": [
      "Testing Accuracy: 0.5555999875068665\n",
      "\n"
     ]
    },
    {
     "data": {
      "image/png": "[encoded data removed]",
      "text/plain": [
       "<matplotlib.figure.Figure at 0x7f645e16fb38>"
      ]
     },
     "metadata": {
      "image/png": {
       "height": 319,
       "width": 355
      }
     },
     "output_type": "display_data"
    }
   ],
   "source": [
    "%matplotlib inline\n",
    "%config InlineBackend.figure_format = 'retina'\n",
    "\n",
    "import tensorflow as tf\n",
    "import pickle\n",
    "import helper_img_clf as helper\n",
    "import random\n",
    "\n",
    "# Set batch size if not already set\n",
    "try:\n",
    "    if batch_size:\n",
    "        pass\n",
    "except NameError:\n",
    "    batch_size = 64\n",
    "\n",
    "save_model_path = './image_classification'\n",
    "n_samples = 4\n",
    "top_n_predictions = 3\n",
    "\n",
    "def test_model():\n",
    "    \"\"\"\n",
    "    Test the saved model against the test dataset\n",
    "    \"\"\"\n",
    "\n",
    "    test_features, test_labels = pickle.load(open('preprocess_training.p', mode='rb'))\n",
    "    loaded_graph = tf.Graph()\n",
    "\n",
    "    with tf.Session(graph=loaded_graph) as sess:\n",
    "        # Load model\n",
    "        loader = tf.train.import_meta_graph(save_model_path + '.meta')\n",
    "        loader.restore(sess, save_model_path)\n",
    "\n",
    "        # Get Tensors from loaded model\n",
    "        loaded_x = loaded_graph.get_tensor_by_name('x:0')\n",
    "        loaded_y = loaded_graph.get_tensor_by_name('y:0')\n",
    "        loaded_keep_prob = loaded_graph.get_tensor_by_name('keep_prob:0')\n",
    "        loaded_logits = loaded_graph.get_tensor_by_name('logits:0')\n",
    "        loaded_acc = loaded_graph.get_tensor_by_name('accuracy:0')\n",
    "        \n",
    "        # Get accuracy in batches for memory limitations\n",
    "        test_batch_acc_total = 0\n",
    "        test_batch_count = 0\n",
    "        \n",
    "        for train_feature_batch, train_label_batch in helper.batch_features_labels(test_features, test_labels, batch_size):\n",
    "            test_batch_acc_total += sess.run(\n",
    "                loaded_acc,\n",
    "                feed_dict={loaded_x: train_feature_batch, loaded_y: train_label_batch, loaded_keep_prob: 1.0})\n",
    "            test_batch_count += 1\n",
    "\n",
    "        print('Testing Accuracy: {}\\n'.format(test_batch_acc_total/test_batch_count))\n",
    "\n",
    "        # Print Random Samples\n",
    "        random_test_features, random_test_labels = tuple(zip(*random.sample(list(zip(test_features, test_labels)), n_samples)))\n",
    "        random_test_predictions = sess.run(tf.nn.top_k(tf.nn.softmax(loaded_logits), top_n_predictions),\n",
    "            feed_dict={loaded_x: random_test_features, loaded_y: random_test_labels, loaded_keep_prob: 1.0})\n",
    "        helper.display_image_predictions(random_test_features, random_test_labels, random_test_predictions)\n",
    "\n",
    "test_model()"
   ]
  },
  {
   "cell_type": "markdown",
   "metadata": {
    "deletable": true,
    "editable": true
   },
   "source": [
    "## Why 50-70% Accuracy?\n",
    "You might be wondering why you can't get an accuracy any higher. First things first, 50% isn't bad for a simple CNN.  Pure guessing would get you 10% accuracy. However, you might notice people are getting scores [well above 70%](http://rodrigob.github.io/are_we_there_yet/build/classification_datasets_results.html#43494641522d3130).  That's because we haven't taught you all there is to know about neural networks. We still need to cover a few more techniques."
   ]
  }
 ],
 "metadata": {
  "anaconda-cloud": {},
  "kernelspec": {
   "display_name": "Python [default]",
   "language": "python",
   "name": "python3"
  },
  "language_info": {
   "codemirror_mode": {
    "name": "ipython",
    "version": 3
   },
   "file_extension": ".py",
   "mimetype": "text/x-python",
   "name": "python",
   "nbconvert_exporter": "python",
   "pygments_lexer": "ipython3",
   "version": "3.5.3"
  }
 },
 "nbformat": 4,
 "nbformat_minor": 0
}
